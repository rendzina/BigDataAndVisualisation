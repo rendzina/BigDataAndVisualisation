{
  "cells": [
    {
      "cell_type": "markdown",
      "metadata": {
        "id": "view-in-github",
        "colab_type": "text"
      },
      "source": [
        "<a href=\"https://colab.research.google.com/github/rendzina/BigDataAndVisualisation/blob/main/Colab/MongoDB_Python.ipynb\" target=\"_parent\"><img src=\"https://colab.research.google.com/assets/colab-badge.svg\" alt=\"Open In Colab\"/></a>"
      ]
    },
    {
      "cell_type": "markdown",
      "metadata": {
        "id": "gvZbEwUMof3t"
      },
      "source": [
        "# MongoDB and Python\n",
        "\n",
        "*MKU: Big Data and Visualisation*\n",
        "\n",
        "Here's how to do access MongoDB in Python using Colab"
      ]
    },
    {
      "cell_type": "code",
      "execution_count": null,
      "metadata": {
        "colab": {
          "base_uri": "https://localhost:8080/"
        },
        "id": "dbne-eBDiTeC",
        "outputId": "e55f2855-ad6f-4a72-bde8-065fcab9e0b3"
      },
      "outputs": [
        {
          "name": "stdout",
          "output_type": "stream",
          "text": [
            "Requirement already satisfied: pymongo in /usr/local/lib/python3.10/dist-packages (4.10.1)\n",
            "Requirement already satisfied: dnspython<3.0.0,>=1.16.0 in /usr/local/lib/python3.10/dist-packages (from pymongo) (2.7.0)\n"
          ]
        }
      ],
      "source": [
        "# First, you need to install the pymongo library which isn't there by default\n",
        "!pip install pymongo"
      ]
    },
    {
      "cell_type": "code",
      "execution_count": null,
      "metadata": {
        "id": "CW0PovCBh1sA"
      },
      "outputs": [],
      "source": [
        "# Now we can install the library for use\n",
        "import pymongo\n",
        "from pymongo import MongoClient"
      ]
    },
    {
      "cell_type": "code",
      "execution_count": null,
      "metadata": {
        "id": "Z5p23LaFiKKs"
      },
      "outputs": [],
      "source": [
        "# Next we set up the connection to the database and set the credentials\n",
        "client = pymongo.MongoClient(\"mongodb+srv://<USER>:<PASSWORD>@<CLUSTERNAME>?retryWrites=true&w=majority\")\n",
        "db = client.environment\n",
        "collection = db.noise_mapping"
      ]
    },
    {
      "cell_type": "code",
      "execution_count": null,
      "metadata": {
        "id": "sKFmH1lsg_Kp"
      },
      "outputs": [],
      "source": [
        "# Then we can bujild the aggregation itself, connecting to the mongodb host. The results are placed in the 'cursor' object.\n",
        "cursor = collection.find(.find({ \"Location/Agglomeration\": \"Milton Keynes Urban Area\" })"
      ]
    },
    {
      "cell_type": "code",
      "execution_count": null,
      "metadata": {
        "colab": {
          "base_uri": "https://localhost:8080/"
        },
        "id": "eRzhfzkfjcZn",
        "outputId": "4034aa9f-97b0-4526-be68-cb136a508f3e"
      },
      "outputs": [
        {
          "data": {
            "text/plain": [
              "[{'_id': ObjectId('663a05011147d3732dd23e1e'),\n",
              "  'Location/Agglomeration': 'Milton Keynes Urban Area',\n",
              "  'Road_Pop_Lden>=70dB': 200,\n",
              "  'Railways_Pop_Lden>=70dB': 600,\n",
              "  'Affects_More_People?': 'Rail'}]"
            ]
          },
          "execution_count": 17,
          "metadata": {},
          "output_type": "execute_result"
        }
      ],
      "source": [
        "# Finally we can inspect the cursor contents with the list command\n",
        "list(cursor)"
      ]
    }
  ],
  "metadata": {
    "colab": {
      "provenance": [],
      "include_colab_link": true
    },
    "kernelspec": {
      "display_name": "Python 3",
      "name": "python3"
    },
    "language_info": {
      "name": "python"
    }
  },
  "nbformat": 4,
  "nbformat_minor": 0
}