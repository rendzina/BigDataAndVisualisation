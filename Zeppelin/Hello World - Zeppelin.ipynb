﻿{
  "metadata": {
    "name": "Hello World - Zeppelin",
   "kernelspec": {
   "display_name":"zeppelin",   "language": "scala",
      "name": "spark2-scala"
    },
    "language_info": {
      "codemirror_mode": "text/x-scala",
      "file_extension": ".scala",
      "mimetype": "text/x-scala",
      "name": "scala",
      "pygments_lexer": "scala"
    }
  },
  "nbformat": 4,
  "nbformat_minor": 2,
  "cells": [
    {
      "cell_type": "markdown",
      "metadata": {},
      "source": "# Hello World\n## Example in Zeppelin"
    },
    {
      "cell_type": "code",
      "execution_count": 1,
      "metadata": {
        "autoscroll": "auto"
      },
      "outputs": [],
      "source": "%livy2.pyspark\nfrom pyspark.sql import *\nfrom pyspark.sql.types import *"
    },
    {
      "cell_type": "code",
      "execution_count": 2,
      "metadata": {
        "autoscroll": "auto"
      },
      "outputs": [],
      "source": "%livy2.pyspark\nimport csv\nimport io\nfrom io import StringIO"
    },
    {
      "cell_type": "code",
      "execution_count": 3,
      "metadata": {
        "autoscroll": "auto"
      },
      "outputs": [],
      "source": "%livy2.pyspark\ncsvFile \u003d spark.read.csv(\u0027/HdiSamples/HdiSamples/SensorSampleData/hvac/HVAC.csv\u0027, header\u003dTrue, inferSchema\u003dTrue)\n"
    },
    {
      "cell_type": "code",
      "execution_count": 4,
      "metadata": {
        "autoscroll": "auto"
      },
      "outputs": [],
      "source": "%livy2.pyspark\n# How many rows in dataframe?\ncsvFile.count()"
    },
    {
      "cell_type": "code",
      "execution_count": 5,
      "metadata": {
        "autoscroll": "auto"
      },
      "outputs": [],
      "source": "%livy2.pyspark\ncsvFile.createOrReplaceTempView(\"hvac_ss01shh\")"
    },
    {
      "cell_type": "code",
      "execution_count": 6,
      "metadata": {
        "autoscroll": "auto"
      },
      "outputs": [],
      "source": "%livy2.pyspark\nspark.sql(\"SELECT count(*) from hvac_ss01shh\").show()"
    },
    {
      "cell_type": "code",
      "execution_count": 7,
      "metadata": {
        "autoscroll": "auto"
      },
      "outputs": [],
      "source": "%livy2.pyspark\nspark.sql(\"DESCRIBE TABLE hvac_ss01shh\").show()"
    },
    {
      "cell_type": "code",
      "execution_count": 8,
      "metadata": {
        "autoscroll": "auto"
      },
      "outputs": [],
      "source": "%livy2.pyspark\nspark.sql(\"SELECT `buildingID`, (targettemp - actualtemp) AS `temp_diff`, date FROM hvac_ss01shh WHERE date \u003d \u00276/1/13\u0027\").show()"
    }
  ]
}