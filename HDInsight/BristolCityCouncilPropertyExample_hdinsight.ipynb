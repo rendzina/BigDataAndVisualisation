{
 "cells": [
  {
   "cell_type": "markdown",
   "metadata": {
    "cell_status": {
     "execute_time": {
      "duration": 0.760986328125,
      "end_time": 1715614954648.608
     }
    }
   },
   "source": [
    "# Bristol City Council Land and Building Assets challenge\n",
    "## Unit 2 Problem Definition and Suggested Solutions"
   ]
  },
  {
   "cell_type": "markdown",
   "metadata": {},
   "source": [
    "# Useful links\n",
    "## Data source\n",
    "https://www.data.gov.uk/dataset/a98345ad-7f4c-4f6e-882b-e631dc1cc046/bristol-city-council-land-and-building-assets\n",
    "\n",
    "https://www.bristol.gov.uk/files/documents/7241-land-property-2023/file\n",
    "\n",
    "## Programming\n",
    "https://www.projectpro.io/recipes/explain-structtype-and-structfield-pyspark-databricks#:~:text=The%20StructField%20in%20PySpark%20represents,the%20name%20of%20the%20StructField\n",
    "\n",
    "https://spark.apache.org/docs/latest/api/python/reference/pyspark.sql/api/pyspark.sql.types.StructType.html#:~:text=.StructType%5Bsource%5D-,Construct%20a%20StructType%20by%20adding%20new%20elements%20to%20it%2C%20to,)%2C%20metadata(optional)\n",
    "\n",
    "https://sparkbyexamples.com/pyspark/pyspark-read-csv-file-into-dataframe/\n",
    "\n",
    "https://sparkbyexamples.com/pyspark/pyspark-sql-date-and-timestamp-functions/\n",
    "\n",
    "https://spark.apache.org/examples.html and https://github.com/apache/spark/tree/master/examples/src/main/python\n",
    "\n",
    "https://www.oreilly.com/library/view/learning-spark-2nd/9781492050032/ch04.html"
   ]
  },
  {
   "cell_type": "code",
   "execution_count": 1,
   "metadata": {
    "cell_status": {
     "execute_time": {
      "duration": 0.757080078125,
      "end_time": 1716220980041.735
     }
    }
   },
   "outputs": [
    {
     "name": "stdout",
     "output_type": "stream",
     "text": [
      "Starting Spark application\n"
     ]
    },
    {
     "data": {
      "text/html": [
       "<table>\n",
       "<tr><th>ID</th><th>YARN Application ID</th><th>Kind</th><th>State</th><th>Spark UI</th><th>Driver log</th><th>User</th><th>Current session?</th></tr><tr><td>11</td><td>application_1716212187058_0023</td><td>pyspark</td><td>idle</td><td><a target=\"_blank\" href=\"http://hn1-bdv.z4noxn0hvprexfgzrhuuui01sd.bx.internal.cloudapp.net:8088/proxy/application_1716212187058_0023/\">Link</a></td><td><a target=\"_blank\" href=\"http://wn0-bdv.z4noxn0hvprexfgzrhuuui01sd.bx.internal.cloudapp.net:30060/node/containerlogs/container_1716212187058_0023_01_000001/livy\">Link</a></td><td>None</td><td>✔</td></tr></table>"
      ],
      "text/plain": [
       "<IPython.core.display.HTML object>"
      ]
     },
     "metadata": {},
     "output_type": "display_data"
    },
    {
     "data": {
      "application/vnd.jupyter.widget-view+json": {
       "model_id": "",
       "version_major": 2,
       "version_minor": 0
      },
      "text/plain": [
       "FloatProgress(value=0.0, bar_style='info', description='Progress:', layout=Layout(height='25px', width='50%'),…"
      ]
     },
     "metadata": {},
     "output_type": "display_data"
    },
    {
     "name": "stdout",
     "output_type": "stream",
     "text": [
      "SparkSession available as 'spark'.\n"
     ]
    },
    {
     "data": {
      "application/vnd.jupyter.widget-view+json": {
       "model_id": "",
       "version_major": 2,
       "version_minor": 0
      },
      "text/plain": [
       "FloatProgress(value=0.0, bar_style='info', description='Progress:', layout=Layout(height='25px', width='50%'),…"
      ]
     },
     "metadata": {},
     "output_type": "display_data"
    },
    {
     "data": {
      "application/vnd.jupyter.widget-view+json": {
       "model_id": "",
       "version_major": 2,
       "version_minor": 0
      },
      "text/plain": [
       "FloatProgress(value=0.0, bar_style='info', description='Progress:', layout=Layout(height='25px', width='50%'),…"
      ]
     },
     "metadata": {},
     "output_type": "display_data"
    }
   ],
   "source": [
    "# Load CSV - can be from a standalone local file, or online file source - here is is a local file in storage blob\n",
    "from pyspark.sql import SparkSession\n",
    "from pyspark.sql.types import StructType, StructField, StringType, IntegerType \n",
    "from pyspark.sql.types import DoubleType, BooleanType, DateType, LongType, FloatType\n",
    "\n",
    "# Using custom schema\n",
    "schema =  StructType() \\\n",
    "      .add(\"Organisation Name\", StringType(), True) \\\n",
    "      .add(\"Organisation Code\", StringType(), True) \\\n",
    "      .add(\"Effective Date\", DateType(), True) \\\n",
    "      .add(\"UPRN\", StringType(), True) \\\n",
    "      .add(\"Property ID\", IntegerType(), True) \\\n",
    "      .add(\"Property Type\", StringType(), True) \\\n",
    "      .add(\"Property Name/Address (Where no UPRN)\", StringType(), True) \\\n",
    "      .add(\"Property Address Detail\", StringType(), True) \\\n",
    "      .add(\"Secondary Address Detail\", StringType(), True) \\\n",
    "      .add(\"Street Number\", StringType(), True) \\\n",
    "      .add(\"Street\", StringType(), True) \\\n",
    "      .add(\"Town / Post Town\", StringType(), True) \\\n",
    "      .add(\"Post Code\", StringType(), True) \\\n",
    "      .add(\"Ward\", StringType(), True) \\\n",
    "      .add(\"Geo X (Easting)\", LongType(), True) \\\n",
    "      .add(\"Geo Y (Northing)\", LongType(), True) \\\n",
    "      .add(\"Tenure Type\", StringType(), True) \\\n",
    "      .add(\"Ground Lease In\", StringType(), True) \\\n",
    "      .add(\"Ground Lease Out\", StringType(), True) \\\n",
    "      .add(\"Lease In to Council\", StringType(), True) \\\n",
    "      .add(\"Lease Out\", StringType(), True) \\\n",
    "      .add(\"Licence In to Council\", StringType(), True) \\\n",
    "      .add(\"Licence Out\", StringType(), True) \\\n",
    "      .add(\"Sub-lease In to Council\", StringType(), True) \\\n",
    "      .add(\"Sub-lease Out\", StringType(), True) \\\n",
    "      .add(\"Vacant\", StringType(), True) \\\n",
    "      .add(\"Asset Type\", StringType(), True) \\\n",
    "      .add(\"Building Size - GIA (M2)\", FloatType(), True) \\\n",
    "      .add(\"Site Area (Hectares)\", FloatType(), True) \\\n",
    "      .add(\"Occupied by Council / Direct Service Property\", StringType(), True) \\\n",
    "      .add(\"Purpose / Asset Category\", StringType(), True)\n",
    "      \n",
    "df = spark.read.format(\"csv\") \\\n",
    "      .options(header=\"True\", inferSchema=\"False\", delimiter=\",\", dateFormat=\"d/M/yyyy\") \\\n",
    "      .schema(schema) \\\n",
    "      .load(\"wasb:///HdiSamples/BristolCityCouncilLandAndBuildingAssets-2024.csv\")\n",
    "# WASB = Windows Azure Storage Blob protocol"
   ]
  },
  {
   "cell_type": "code",
   "execution_count": 2,
   "metadata": {
    "cell_status": {
     "execute_time": {
      "duration": 2296.115966796875,
      "end_time": 1716221025416
     }
    }
   },
   "outputs": [
    {
     "data": {
      "application/vnd.jupyter.widget-view+json": {
       "model_id": "",
       "version_major": 2,
       "version_minor": 0
      },
      "text/plain": [
       "FloatProgress(value=0.0, bar_style='info', description='Progress:', layout=Layout(height='25px', width='50%'),…"
      ]
     },
     "metadata": {},
     "output_type": "display_data"
    },
    {
     "name": "stdout",
     "output_type": "stream",
     "text": [
      "DataFrame[Organisation Name: string, Organisation Code: string, Effective Date: date, UPRN: string, Property ID: int, Property Type: string, Property Name/Address (Where no UPRN): string, Property Address Detail: string, Secondary Address Detail: string, Street Number: string, Street: string, Town / Post Town: string, Post Code: string, Ward: string, Geo X (Easting): bigint, Geo Y (Northing): bigint, Tenure Type: string, Ground Lease In: string, Ground Lease Out: string, Lease In to Council: string, Lease Out: string, Licence In to Council: string, Licence Out: string, Sub-lease In to Council: string, Sub-lease Out: string, Vacant: string, Asset Type: string, Building Size - GIA (M2): float, Site Area (Hectares): float, Occupied by Council / Direct Service Property: string, Purpose / Asset Category: string]"
     ]
    }
   ],
   "source": [
    "from IPython.display import display\n",
    "display(df)"
   ]
  },
  {
   "cell_type": "code",
   "execution_count": 3,
   "metadata": {
    "cell_status": {
     "execute_time": {
      "duration": 0.60595703125,
      "end_time": 1716221025388.252
     }
    }
   },
   "outputs": [
    {
     "data": {
      "application/vnd.jupyter.widget-view+json": {
       "model_id": "",
       "version_major": 2,
       "version_minor": 0
      },
      "text/plain": [
       "FloatProgress(value=0.0, bar_style='info', description='Progress:', layout=Layout(height='25px', width='50%'),…"
      ]
     },
     "metadata": {},
     "output_type": "display_data"
    },
    {
     "name": "stdout",
     "output_type": "stream",
     "text": [
      "root\n",
      " |-- Organisation Name: string (nullable = true)\n",
      " |-- Organisation Code: string (nullable = true)\n",
      " |-- Effective Date: date (nullable = true)\n",
      " |-- UPRN: string (nullable = true)\n",
      " |-- Property ID: integer (nullable = true)\n",
      " |-- Property Type: string (nullable = true)\n",
      " |-- Property Name/Address (Where no UPRN): string (nullable = true)\n",
      " |-- Property Address Detail: string (nullable = true)\n",
      " |-- Secondary Address Detail: string (nullable = true)\n",
      " |-- Street Number: string (nullable = true)\n",
      " |-- Street: string (nullable = true)\n",
      " |-- Town / Post Town: string (nullable = true)\n",
      " |-- Post Code: string (nullable = true)\n",
      " |-- Ward: string (nullable = true)\n",
      " |-- Geo X (Easting): long (nullable = true)\n",
      " |-- Geo Y (Northing): long (nullable = true)\n",
      " |-- Tenure Type: string (nullable = true)\n",
      " |-- Ground Lease In: string (nullable = true)\n",
      " |-- Ground Lease Out: string (nullable = true)\n",
      " |-- Lease In to Council: string (nullable = true)\n",
      " |-- Lease Out: string (nullable = true)\n",
      " |-- Licence In to Council: string (nullable = true)\n",
      " |-- Licence Out: string (nullable = true)\n",
      " |-- Sub-lease In to Council: string (nullable = true)\n",
      " |-- Sub-lease Out: string (nullable = true)\n",
      " |-- Vacant: string (nullable = true)\n",
      " |-- Asset Type: string (nullable = true)\n",
      " |-- Building Size - GIA (M2): float (nullable = true)\n",
      " |-- Site Area (Hectares): float (nullable = true)\n",
      " |-- Occupied by Council / Direct Service Property: string (nullable = true)\n",
      " |-- Purpose / Asset Category: string (nullable = true)"
     ]
    }
   ],
   "source": [
    "# Show schema\n",
    "df.printSchema()"
   ]
  },
  {
   "cell_type": "code",
   "execution_count": 4,
   "metadata": {
    "cell_status": {
     "execute_time": {
      "duration": 762.922119140625,
      "end_time": 1716221026225
     }
    }
   },
   "outputs": [
    {
     "data": {
      "application/vnd.jupyter.widget-view+json": {
       "model_id": "",
       "version_major": 2,
       "version_minor": 0
      },
      "text/plain": [
       "FloatProgress(value=0.0, bar_style='info', description='Progress:', layout=Layout(height='25px', width='50%'),…"
      ]
     },
     "metadata": {},
     "output_type": "display_data"
    },
    {
     "name": "stdout",
     "output_type": "stream",
     "text": [
      "+-----------------+--------------------+--------------+------------+-----------+--------------------+-------------------------------------+-----------------------+------------------------+-------------+---------------+----------------+---------+--------------------+---------------+----------------+-----------+---------------+----------------+-------------------+---------+---------------------+-----------+-----------------------+-------------+------+--------------------+------------------------+--------------------+---------------------------------------------+------------------------+\n",
      "|Organisation Name|   Organisation Code|Effective Date|        UPRN|Property ID|       Property Type|Property Name/Address (Where no UPRN)|Property Address Detail|Secondary Address Detail|Street Number|         Street|Town / Post Town|Post Code|                Ward|Geo X (Easting)|Geo Y (Northing)|Tenure Type|Ground Lease In|Ground Lease Out|Lease In to Council|Lease Out|Licence In to Council|Licence Out|Sub-lease In to Council|Sub-lease Out|Vacant|          Asset Type|Building Size - GIA (M2)|Site Area (Hectares)|Occupied by Council / Direct Service Property|Purpose / Asset Category|\n",
      "+-----------------+--------------------+--------------+------------+-----------+--------------------+-------------------------------------+-----------------------+------------------------+-------------+---------------+----------------+---------+--------------------+---------------+----------------+-----------+---------------+----------------+-------------------+---------+---------------------+-----------+-----------------------+-------------+------+--------------------+------------------------+--------------------+---------------------------------------------+------------------------+\n",
      "| Bristol, City of|http://opendataco...|    2024-02-02|        null|       1603| Land-Car/Lorry Park|                 Victoria Road - L...|   Victoria Road - L...|                    null|         null|           null|            null|     null|       Lawrence Hill|         360190|          171930|   Freehold|           null|            null|               null|Lease Out|                 null|       null|                   null|         null|  null|           Land only|                    null|              0.0585|                                         null|    Indirect Service ...|\n",
      "| Bristol, City of|http://opendataco...|    2024-02-02|        null|       1475|         Land-Garden|                 Hill Cottage - La...|   Hill Cottage - La...|                    null|         null|           null|            null|     null|    Brislington East|         362169|          170504|   Freehold|           null|            null|               null|     null|                 null|Licence Out|                   null|         null|  null|           Land only|                    null|              0.0148|                                         null|    Indirect Service ...|\n",
      "| Bristol, City of|http://opendataco...|    2024-02-02|        null|       1476|          Land-Verge|                 Stapleton Road - ...|   Stapleton Road - ...|                    null|         null|           null|            null|     null|       Lawrence Hill|         360605|          174540|   Freehold|           null|            null|               null|     null|                 null|       null|                   null|         null|  null|           Land only|                    null|            0.675358|                                         null|          Infrastructure|\n",
      "| Bristol, City of|http://opendataco...|    2024-02-02|        null|       1483| Industrial/Workshop|                 Cumberland Basin ...|   Cumberland Basin ...|                    null|         null|           null|            null|     null|Hotwells & Harbou...|         356782|          172272|   Freehold|           null|            null|               null|Lease Out|                 null|       null|                   null|         null|  null|Land and Building(s)|                     0.0|            0.493444|                                         null|    Investment Proper...|\n",
      "| Bristol, City of|http://opendataco...|    2024-02-02|        null|       1490|          Land-Verge|                 Dalkeith Avenue/I...|   Dalkeith Avenue/I...|                    null|         null|           null|            null|     null|   St George Central|         364032|          174282|   Freehold|           null|            null|               null|     null|                 null|       null|                   null|         null|  null|           Land only|                    null|              0.0147|                                         null|          Infrastructure|\n",
      "| Bristol, City of|http://opendataco...|    2024-02-02|        null|       1498|          Land-Verge|                 West Street - Lan...|   West Street - Lan...|                    null|         null|           null|            null|     null|          Bedminster|         358269|          171319|   Freehold|           null|            null|               null|     null|                 null|       null|                   null|         null|  null|           Land only|                    null|            0.010534|                                         null|          Infrastructure|\n",
      "| Bristol, City of|http://opendataco...|    2024-02-02|        null|       1503|        Land-Grazing|                 Eastwood Farm - L...|   Eastwood Farm - L...|                    null|         null|           null|            null|     null|    Brislington East|         363317|          171519|   Freehold|           null|            null|               null|     null|                 null|       null|                   null|         null|  null|           Land only|                    null|            4.633655|                                          Yes|          Direct Service|\n",
      "| Bristol, City of|http://opendataco...|    2024-02-02|        null|       1511|          Land-Verge|                 Blackberry Hill -...|   Blackberry Hill -...|                    null|         null|           null|            null|     null|          Frome Vale|         362020|          176322|   Freehold|           null|            null|               null|     null|                 null|       null|                   null|         null|  null|           Land only|                    null|              0.0322|                                         null|          Infrastructure|\n",
      "| Bristol, City of|http://opendataco...|    2024-02-02|        null|       1514|          Land-Verge|                 Lower Knole Lane/...|   Lower Knole Lane/...|                    null|         null|           null|            null|     null|   Henbury & Brentry|         357265|          179094|   Freehold|           null|            null|               null|     null|                 null|       null|                   null|         null|  null|           Land only|                    null|              0.0079|                                         null|          Infrastructure|\n",
      "| Bristol, City of|http://opendataco...|    2024-02-02|        null|       1927|     Land-Open Space|                 Fraser Street - L...|   Fraser Street - L...|                    null|         null|           null|            null|     null|       Windmill Hill|         358838|          171430|   Freehold|           null|            null|               null|     null|                 null|       null|                   null|         null|  null|           Land only|                    null|              0.1936|                                          Yes|          Direct Service|\n",
      "| Bristol, City of|http://opendataco...|    2024-02-02|000000303908|       1929|Land-Railway/Stat...|                 West Town Road - ...|   West Town Road - ...|                    null|         null| West Town Road|         Bristol|     null|Avonmouth & Lawre...|         352128|          176962|   Freehold|           null|            null|               null|     null|                 null|       null|                   null|         null|  null|           Land only|                    null|            1.099583|                                          Yes|          Direct Service|\n",
      "| Bristol, City of|http://opendataco...|    2024-02-02|000000199821|       1931|     Land-Industrial|                 Albert Crescent -...|   Albert Crescent -...|                    null|         null|Albert Crescent|         Bristol|  BS2 0SU|       Lawrence Hill|         360475|          172230|   Freehold|           null|            null|               null|Lease Out|                 null|       null|                   null|         null|  null|           Land only|                    null|            0.141707|                                         null|    Indirect Service ...|\n",
      "| Bristol, City of|http://opendataco...|    2024-02-02|000000303814|       1940|          Land-Verge|                 Saltwell Viaduct ...|   Saltwell Viaduct ...|                    null|         null|     Wells Road|         Bristol|         |           Stockwood|         361242|          168200|   Freehold|           null|            null|               null|     null|                 null|       null|                   null|         null|  null|           Land only|                    null|            0.047247|                                         null|          Infrastructure|\n",
      "| Bristol, City of|http://opendataco...|    2024-02-02|000000299775|       1941| Land-Car/Lorry Park|                 Brislington Park ...|   Brislington Park ...|                    null|         null| Stockwood Road|         Bristol| BS14 5LR|    Brislington West|         362757|          170016|   Freehold|           null|            null|               null|     null|                 null|       null|                   null|         null|  null|Land and Building(s)|                   147.0|            5.270843|                                          Yes|          Direct Service|\n",
      "| Bristol, City of|http://opendataco...|    2024-02-02|000000303846|       1845|        Land-Amenity|                 Bushy Park Open S...|   Bushy Park Open S...|                    null|         null|     Bushy Park|         Bristol|         |       Windmill Hill|         359904|          171556|   Freehold|           null|            null|               null|     null|                 null|       null|                   null|         null|  null|           Land only|                    null|            0.214309|                                          Yes|          Direct Service|\n",
      "| Bristol, City of|http://opendataco...|    2024-02-02|        null|       1847| Land-Car/Lorry Park|                 Broomhill Road - ...|   Broomhill Road - ...|                    null|         null|           null|            null|         |    Brislington East|         362751|          171428|   Freehold|           null|            null|               null|     null|                 null|       null|                   null|         null|  null|           Land only|                    null|              0.0012|                                         null|    Surplus / Non-ope...|\n",
      "| Bristol, City of|http://opendataco...|    2024-02-02|        null|     124473|Land-Electricity ...|                 St Johns Crescent...|   St Johns Crescent...|                    null|         null|           null|            null|         |       Windmill Hill|         359438|          170887|   Freehold|           null|            null|               null|     null|                 null|       null|                   null|         null|  null|           Land only|                    null|            0.001562|                                         null|    Surplus / Non-ope...|\n",
      "| Bristol, City of|http://opendataco...|    2024-02-02|        null|       1770|          Land-Verge|                 St Lukes Road - V...|   St Lukes Road - V...|                    null|         null|           null|            null|         |       Windmill Hill|         359560|          171634|Mixed Title|           null|            null|               null|     null|                 null|       null|                   null|         null|  null|           Land only|                    null|            0.235119|                                         null|          Infrastructure|\n",
      "| Bristol, City of|http://opendataco...|    2024-02-02|000000342227|       1774|Land-Railway/Stat...|                 Muller Road - Emb...|   Muller Road - Emb...|                    null|         null|    Muller Road|         Bristol|         |           Lockleaze|         360499|          175451|   Freehold|           null|            null|               null|     null|                 null|       null|                   null|         null|  null|           Land only|                    null|              0.1756|                                          Yes|          Direct Service|\n",
      "| Bristol, City of|http://opendataco...|    2024-02-02|        null|       1777|Land-Open Store/Yard|                 Albert Road - Lan...|   Albert Road - Lan...|                    null|         null|           null|            null|         |       Lawrence Hill|         360076|          171901|   Freehold|           null|            null|               null|Lease Out|                 null|       null|                   null|         null|  null|           Land only|                    null|            0.099625|                                         null|    Indirect Service ...|\n",
      "+-----------------+--------------------+--------------+------------+-----------+--------------------+-------------------------------------+-----------------------+------------------------+-------------+---------------+----------------+---------+--------------------+---------------+----------------+-----------+---------------+----------------+-------------------+---------+---------------------+-----------+-----------------------+-------------+------+--------------------+------------------------+--------------------+---------------------------------------------+------------------------+\n",
      "only showing top 20 rows"
     ]
    }
   ],
   "source": [
    "# Show dataframe\n",
    "df.show()"
   ]
  },
  {
   "cell_type": "code",
   "execution_count": 5,
   "metadata": {
    "cell_status": {
     "execute_time": {
      "duration": 0.948974609375,
      "end_time": 1716221026166.153
     }
    }
   },
   "outputs": [
    {
     "data": {
      "application/vnd.jupyter.widget-view+json": {
       "model_id": "",
       "version_major": 2,
       "version_minor": 0
      },
      "text/plain": [
       "FloatProgress(value=0.0, bar_style='info', description='Progress:', layout=Layout(height='25px', width='50%'),…"
      ]
     },
     "metadata": {},
     "output_type": "display_data"
    }
   ],
   "source": [
    "# The data is now there ready to use. First let's take the df and create a new virtial HIVE table to query in Spark\n",
    "\n",
    "# Register the dataframe as a virtual HIVE table to allow SparkSQL\n",
    "#df.registerTempTable('BristolCouncilAssets') # depracated form of command, nopw replaced with ...\n",
    "df.createOrReplaceTempView('BristolCouncilAssets')"
   ]
  },
  {
   "cell_type": "markdown",
   "metadata": {
    "cell_status": {
     "execute_time": {
      "duration": 1.243896484375,
      "end_time": 1715689769693.7
     }
    }
   },
   "source": [
    "# Problem 1\n",
    "How many ‘Properties’ are Bristol City Council (BCC) responsible for (as owner, user or manager)?"
   ]
  },
  {
   "cell_type": "markdown",
   "metadata": {},
   "source": [
    "The problems are all addressed using Spark SQL. Note the use of the 'magic' symbol %%sql"
   ]
  },
  {
   "cell_type": "code",
   "execution_count": 6,
   "metadata": {
    "cell_status": {
     "execute_time": {
      "duration": 51.1630859375,
      "end_time": 1716221026262
     }
    }
   },
   "outputs": [
    {
     "data": {
      "application/vnd.jupyter.widget-view+json": {
       "model_id": "",
       "version_major": 2,
       "version_minor": 0
      },
      "text/plain": [
       "FloatProgress(value=0.0, bar_style='info', description='Progress:', layout=Layout(height='25px', width='50%'),…"
      ]
     },
     "metadata": {},
     "output_type": "display_data"
    },
    {
     "data": {
      "text/html": [
       "<div>\n",
       "<style scoped>\n",
       "    .dataframe tbody tr th:only-of-type {\n",
       "        vertical-align: middle;\n",
       "    }\n",
       "\n",
       "    .dataframe tbody tr th {\n",
       "        vertical-align: top;\n",
       "    }\n",
       "\n",
       "    .dataframe thead th {\n",
       "        text-align: right;\n",
       "    }\n",
       "</style>\n",
       "<table border=\"1\" class=\"dataframe\">\n",
       "  <thead>\n",
       "    <tr style=\"text-align: right;\">\n",
       "      <th></th>\n",
       "      <th>Count</th>\n",
       "    </tr>\n",
       "  </thead>\n",
       "  <tbody>\n",
       "    <tr>\n",
       "      <th>0</th>\n",
       "      <td>3805</td>\n",
       "    </tr>\n",
       "  </tbody>\n",
       "</table>\n",
       "</div>"
      ],
      "text/plain": [
       "   Count\n",
       "0   3805"
      ]
     },
     "execution_count": 6,
     "metadata": {},
     "output_type": "execute_result"
    }
   ],
   "source": [
    "%%sql\n",
    "SELECT Count(*) AS Count\n",
    "FROM BristolCouncilAssets"
   ]
  },
  {
   "cell_type": "markdown",
   "metadata": {
    "cell_status": {
     "execute_time": {
      "duration": 1.243896484375,
      "end_time": 1715689769693.7
     }
    }
   },
   "source": [
    "# Problem 2\n",
    "How many unique ‘Property Type’s are Bristol City Council (BCC) responsible for (as owner, user or manager)?"
   ]
  },
  {
   "cell_type": "code",
   "execution_count": 7,
   "metadata": {
    "cell_status": {
     "execute_time": {
      "duration": 0.691162109375,
      "end_time": 1716221026235.016
     }
    }
   },
   "outputs": [
    {
     "data": {
      "application/vnd.jupyter.widget-view+json": {
       "model_id": "",
       "version_major": 2,
       "version_minor": 0
      },
      "text/plain": [
       "FloatProgress(value=0.0, bar_style='info', description='Progress:', layout=Layout(height='25px', width='50%'),…"
      ]
     },
     "metadata": {},
     "output_type": "display_data"
    },
    {
     "data": {
      "text/html": [
       "<div>\n",
       "<style scoped>\n",
       "    .dataframe tbody tr th:only-of-type {\n",
       "        vertical-align: middle;\n",
       "    }\n",
       "\n",
       "    .dataframe tbody tr th {\n",
       "        vertical-align: top;\n",
       "    }\n",
       "\n",
       "    .dataframe thead th {\n",
       "        text-align: right;\n",
       "    }\n",
       "</style>\n",
       "<table border=\"1\" class=\"dataframe\">\n",
       "  <thead>\n",
       "    <tr style=\"text-align: right;\">\n",
       "      <th></th>\n",
       "      <th>Property Type</th>\n",
       "    </tr>\n",
       "  </thead>\n",
       "  <tbody>\n",
       "    <tr>\n",
       "      <th>0</th>\n",
       "      <td>Access/Right Of Way</td>\n",
       "    </tr>\n",
       "    <tr>\n",
       "      <th>1</th>\n",
       "      <td>Agricultural Buildings</td>\n",
       "    </tr>\n",
       "    <tr>\n",
       "      <th>2</th>\n",
       "      <td>Block/Blocks Of Flats</td>\n",
       "    </tr>\n",
       "    <tr>\n",
       "      <th>3</th>\n",
       "      <td>Bridge/Pontoon</td>\n",
       "    </tr>\n",
       "    <tr>\n",
       "      <th>4</th>\n",
       "      <td>Bus Shelter</td>\n",
       "    </tr>\n",
       "    <tr>\n",
       "      <th>...</th>\n",
       "      <td>...</td>\n",
       "    </tr>\n",
       "    <tr>\n",
       "      <th>103</th>\n",
       "      <td>Training/Community/Further Education</td>\n",
       "    </tr>\n",
       "    <tr>\n",
       "      <th>104</th>\n",
       "      <td>Transfer Station</td>\n",
       "    </tr>\n",
       "    <tr>\n",
       "      <th>105</th>\n",
       "      <td>Tunnel</td>\n",
       "    </tr>\n",
       "    <tr>\n",
       "      <th>106</th>\n",
       "      <td>Underground Store</td>\n",
       "    </tr>\n",
       "    <tr>\n",
       "      <th>107</th>\n",
       "      <td>Youth Club/Centre</td>\n",
       "    </tr>\n",
       "  </tbody>\n",
       "</table>\n",
       "<p>108 rows × 1 columns</p>\n",
       "</div>"
      ],
      "text/plain": [
       "                            Property Type\n",
       "0                     Access/Right Of Way\n",
       "1                  Agricultural Buildings\n",
       "2                   Block/Blocks Of Flats\n",
       "3                          Bridge/Pontoon\n",
       "4                             Bus Shelter\n",
       "..                                    ...\n",
       "103  Training/Community/Further Education\n",
       "104                      Transfer Station\n",
       "105                                Tunnel\n",
       "106                     Underground Store\n",
       "107                     Youth Club/Centre\n",
       "\n",
       "[108 rows x 1 columns]"
      ]
     },
     "execution_count": 7,
     "metadata": {},
     "output_type": "execute_result"
    }
   ],
   "source": [
    "%%sql\n",
    "SELECT DISTINCT `Property Type` \n",
    "FROM BristolCouncilAssets \n",
    "ORDER BY `Property Type`"
   ]
  },
  {
   "cell_type": "markdown",
   "metadata": {},
   "source": [
    "The above output is broken down to show all the seperate property types - if we just want a total count then we can do as is shown below."
   ]
  },
  {
   "cell_type": "code",
   "execution_count": 8,
   "metadata": {
    "cell_status": {
     "execute_time": {
      "duration": 7312.274169921875,
      "end_time": 1716221033620
     }
    }
   },
   "outputs": [
    {
     "data": {
      "application/vnd.jupyter.widget-view+json": {
       "model_id": "",
       "version_major": 2,
       "version_minor": 0
      },
      "text/plain": [
       "FloatProgress(value=0.0, bar_style='info', description='Progress:', layout=Layout(height='25px', width='50%'),…"
      ]
     },
     "metadata": {},
     "output_type": "display_data"
    },
    {
     "data": {
      "text/html": [
       "<div>\n",
       "<style scoped>\n",
       "    .dataframe tbody tr th:only-of-type {\n",
       "        vertical-align: middle;\n",
       "    }\n",
       "\n",
       "    .dataframe tbody tr th {\n",
       "        vertical-align: top;\n",
       "    }\n",
       "\n",
       "    .dataframe thead th {\n",
       "        text-align: right;\n",
       "    }\n",
       "</style>\n",
       "<table border=\"1\" class=\"dataframe\">\n",
       "  <thead>\n",
       "    <tr style=\"text-align: right;\">\n",
       "      <th></th>\n",
       "      <th>Count</th>\n",
       "    </tr>\n",
       "  </thead>\n",
       "  <tbody>\n",
       "    <tr>\n",
       "      <th>0</th>\n",
       "      <td>108</td>\n",
       "    </tr>\n",
       "  </tbody>\n",
       "</table>\n",
       "</div>"
      ],
      "text/plain": [
       "   Count\n",
       "0    108"
      ]
     },
     "execution_count": 8,
     "metadata": {},
     "output_type": "execute_result"
    }
   ],
   "source": [
    "%%sql\n",
    "SELECT Count(*) AS Count\n",
    "FROM (SELECT DISTINCT `Property Type` FROM BristolCouncilAssets) types"
   ]
  },
  {
   "cell_type": "markdown",
   "metadata": {
    "cell_status": {
     "execute_time": {
      "duration": 1.243896484375,
      "end_time": 1715689769693.7
     }
    }
   },
   "source": [
    "# Problem 3\n",
    "How many properties are there in each of the ‘Property Types’?"
   ]
  },
  {
   "cell_type": "code",
   "execution_count": 9,
   "metadata": {
    "cell_status": {
     "execute_time": {
      "duration": 0.89501953125,
      "end_time": 1716221033561.318
     }
    }
   },
   "outputs": [
    {
     "data": {
      "application/vnd.jupyter.widget-view+json": {
       "model_id": "",
       "version_major": 2,
       "version_minor": 0
      },
      "text/plain": [
       "FloatProgress(value=0.0, bar_style='info', description='Progress:', layout=Layout(height='25px', width='50%'),…"
      ]
     },
     "metadata": {},
     "output_type": "display_data"
    },
    {
     "data": {
      "text/html": [
       "<div>\n",
       "<style scoped>\n",
       "    .dataframe tbody tr th:only-of-type {\n",
       "        vertical-align: middle;\n",
       "    }\n",
       "\n",
       "    .dataframe tbody tr th {\n",
       "        vertical-align: top;\n",
       "    }\n",
       "\n",
       "    .dataframe thead th {\n",
       "        text-align: right;\n",
       "    }\n",
       "</style>\n",
       "<table border=\"1\" class=\"dataframe\">\n",
       "  <thead>\n",
       "    <tr style=\"text-align: right;\">\n",
       "      <th></th>\n",
       "      <th>Property Type</th>\n",
       "      <th>Count</th>\n",
       "    </tr>\n",
       "  </thead>\n",
       "  <tbody>\n",
       "    <tr>\n",
       "      <th>0</th>\n",
       "      <td>Access/Right Of Way</td>\n",
       "      <td>20</td>\n",
       "    </tr>\n",
       "    <tr>\n",
       "      <th>1</th>\n",
       "      <td>Agricultural Buildings</td>\n",
       "      <td>2</td>\n",
       "    </tr>\n",
       "    <tr>\n",
       "      <th>2</th>\n",
       "      <td>Block/Blocks Of Flats</td>\n",
       "      <td>1</td>\n",
       "    </tr>\n",
       "    <tr>\n",
       "      <th>3</th>\n",
       "      <td>Bridge/Pontoon</td>\n",
       "      <td>17</td>\n",
       "    </tr>\n",
       "    <tr>\n",
       "      <th>4</th>\n",
       "      <td>Bus Shelter</td>\n",
       "      <td>5</td>\n",
       "    </tr>\n",
       "    <tr>\n",
       "      <th>...</th>\n",
       "      <td>...</td>\n",
       "      <td>...</td>\n",
       "    </tr>\n",
       "    <tr>\n",
       "      <th>103</th>\n",
       "      <td>Training/Community/Further Education</td>\n",
       "      <td>8</td>\n",
       "    </tr>\n",
       "    <tr>\n",
       "      <th>104</th>\n",
       "      <td>Transfer Station</td>\n",
       "      <td>1</td>\n",
       "    </tr>\n",
       "    <tr>\n",
       "      <th>105</th>\n",
       "      <td>Tunnel</td>\n",
       "      <td>2</td>\n",
       "    </tr>\n",
       "    <tr>\n",
       "      <th>106</th>\n",
       "      <td>Underground Store</td>\n",
       "      <td>3</td>\n",
       "    </tr>\n",
       "    <tr>\n",
       "      <th>107</th>\n",
       "      <td>Youth Club/Centre</td>\n",
       "      <td>7</td>\n",
       "    </tr>\n",
       "  </tbody>\n",
       "</table>\n",
       "<p>108 rows × 2 columns</p>\n",
       "</div>"
      ],
      "text/plain": [
       "                            Property Type  Count\n",
       "0                     Access/Right Of Way     20\n",
       "1                  Agricultural Buildings      2\n",
       "2                   Block/Blocks Of Flats      1\n",
       "3                          Bridge/Pontoon     17\n",
       "4                             Bus Shelter      5\n",
       "..                                    ...    ...\n",
       "103  Training/Community/Further Education      8\n",
       "104                      Transfer Station      1\n",
       "105                                Tunnel      2\n",
       "106                     Underground Store      3\n",
       "107                     Youth Club/Centre      7\n",
       "\n",
       "[108 rows x 2 columns]"
      ]
     },
     "execution_count": 9,
     "metadata": {},
     "output_type": "execute_result"
    }
   ],
   "source": [
    "%%sql\n",
    "SELECT `Property Type`, Count(*) AS Count\n",
    "FROM BristolCouncilAssets \n",
    "GROUP BY `Property Type` \n",
    "ORDER BY `Property Type`"
   ]
  },
  {
   "cell_type": "markdown",
   "metadata": {},
   "source": [
    "# Problem 4\n",
    "Show a histogram classifying the total area (in Ha) of each of these 'property types'"
   ]
  },
  {
   "cell_type": "markdown",
   "metadata": {},
   "source": [
    "Note the %%sql statement is parametised below to capture the output to a query result 'propertytypes', which can then be used to produce a plot below."
   ]
  },
  {
   "cell_type": "code",
   "execution_count": 10,
   "metadata": {
    "cell_status": {
     "execute_time": {
      "duration": 257.816162109375,
      "end_time": 1716221033926
     }
    }
   },
   "outputs": [
    {
     "data": {
      "application/vnd.jupyter.widget-view+json": {
       "model_id": "",
       "version_major": 2,
       "version_minor": 0
      },
      "text/plain": [
       "FloatProgress(value=0.0, bar_style='info', description='Progress:', layout=Layout(height='25px', width='50%'),…"
      ]
     },
     "metadata": {},
     "output_type": "display_data"
    }
   ],
   "source": [
    "%%sql -q -o propertytypes\n",
    "SELECT `Property Type`, Sum(`Site Area (Hectares)`) AS Sum\n",
    "FROM BristolCouncilAssets \n",
    "GROUP BY `Property Type` \n",
    "ORDER BY Sum(`Site Area (Hectares)`) DESC LIMIT 15"
   ]
  },
  {
   "cell_type": "code",
   "execution_count": 11,
   "metadata": {
    "cell_status": {
     "execute_time": {
      "duration": 1.027099609375,
      "end_time": 1716221033837.208
     }
    }
   },
   "outputs": [
    {
     "data": {
      "text/plain": [
       "<BarContainer object of 15 artists>"
      ]
     },
     "execution_count": 11,
     "metadata": {},
     "output_type": "execute_result"
    },
    {
     "data": {
      "image/png": "[encoded data removed]",
      "text/plain": [
       "<Figure size 1500x480 with 1 Axes>"
      ]
     },
     "metadata": {},
     "output_type": "display_data"
    }
   ],
   "source": [
    "%matplotlib inline\n",
    "import matplotlib.pyplot as plt\n",
    "\n",
    "plt.figure().set_figwidth(15)\n",
    "plt.title('Top Land assets holdings distribution')\n",
    "plt.xlabel('Property Type')\n",
    "plt.xticks(rotation=90)\n",
    "plt.ylabel('Total area (Ha)')\n",
    "plt.bar(propertytypes['Property Type'],propertytypes['Sum'])"
   ]
  },
  {
   "cell_type": "markdown",
   "metadata": {},
   "source": [
    "# Problem 5\n",
    "For each of these grouped properties, what are the numbers of properties in each ‘tenure type’ recorded?"
   ]
  },
  {
   "cell_type": "code",
   "execution_count": 12,
   "metadata": {
    "cell_status": {
     "execute_time": {
      "duration": 3293.72802734375,
      "end_time": 1716221037193
     }
    }
   },
   "outputs": [
    {
     "data": {
      "application/vnd.jupyter.widget-view+json": {
       "model_id": "",
       "version_major": 2,
       "version_minor": 0
      },
      "text/plain": [
       "FloatProgress(value=0.0, bar_style='info', description='Progress:', layout=Layout(height='25px', width='50%'),…"
      ]
     },
     "metadata": {},
     "output_type": "display_data"
    },
    {
     "data": {
      "text/html": [
       "<div>\n",
       "<style scoped>\n",
       "    .dataframe tbody tr th:only-of-type {\n",
       "        vertical-align: middle;\n",
       "    }\n",
       "\n",
       "    .dataframe tbody tr th {\n",
       "        vertical-align: top;\n",
       "    }\n",
       "\n",
       "    .dataframe thead th {\n",
       "        text-align: right;\n",
       "    }\n",
       "</style>\n",
       "<table border=\"1\" class=\"dataframe\">\n",
       "  <thead>\n",
       "    <tr style=\"text-align: right;\">\n",
       "      <th></th>\n",
       "      <th>Property Type</th>\n",
       "      <th>Tenure Type</th>\n",
       "      <th>Count</th>\n",
       "    </tr>\n",
       "  </thead>\n",
       "  <tbody>\n",
       "    <tr>\n",
       "      <th>0</th>\n",
       "      <td>Youth Club/Centre</td>\n",
       "      <td>Freehold</td>\n",
       "      <td>6</td>\n",
       "    </tr>\n",
       "    <tr>\n",
       "      <th>1</th>\n",
       "      <td>Youth Club/Centre</td>\n",
       "      <td>Leasehold</td>\n",
       "      <td>1</td>\n",
       "    </tr>\n",
       "    <tr>\n",
       "      <th>2</th>\n",
       "      <td>Underground Store</td>\n",
       "      <td>Freehold</td>\n",
       "      <td>3</td>\n",
       "    </tr>\n",
       "    <tr>\n",
       "      <th>3</th>\n",
       "      <td>Tunnel</td>\n",
       "      <td>Freehold</td>\n",
       "      <td>1</td>\n",
       "    </tr>\n",
       "    <tr>\n",
       "      <th>4</th>\n",
       "      <td>Tunnel</td>\n",
       "      <td>Maintenance Obligation</td>\n",
       "      <td>1</td>\n",
       "    </tr>\n",
       "    <tr>\n",
       "      <th>...</th>\n",
       "      <td>...</td>\n",
       "      <td>...</td>\n",
       "      <td>...</td>\n",
       "    </tr>\n",
       "    <tr>\n",
       "      <th>193</th>\n",
       "      <td>Bus Shelter</td>\n",
       "      <td>Freehold</td>\n",
       "      <td>5</td>\n",
       "    </tr>\n",
       "    <tr>\n",
       "      <th>194</th>\n",
       "      <td>Bridge/Pontoon</td>\n",
       "      <td>Freehold</td>\n",
       "      <td>17</td>\n",
       "    </tr>\n",
       "    <tr>\n",
       "      <th>195</th>\n",
       "      <td>Block/Blocks Of Flats</td>\n",
       "      <td>Freehold</td>\n",
       "      <td>1</td>\n",
       "    </tr>\n",
       "    <tr>\n",
       "      <th>196</th>\n",
       "      <td>Agricultural Buildings</td>\n",
       "      <td>Freehold</td>\n",
       "      <td>2</td>\n",
       "    </tr>\n",
       "    <tr>\n",
       "      <th>197</th>\n",
       "      <td>Access/Right Of Way</td>\n",
       "      <td>Freehold</td>\n",
       "      <td>20</td>\n",
       "    </tr>\n",
       "  </tbody>\n",
       "</table>\n",
       "<p>198 rows × 3 columns</p>\n",
       "</div>"
      ],
      "text/plain": [
       "              Property Type             Tenure Type  Count\n",
       "0         Youth Club/Centre                Freehold      6\n",
       "1         Youth Club/Centre               Leasehold      1\n",
       "2         Underground Store                Freehold      3\n",
       "3                    Tunnel                Freehold      1\n",
       "4                    Tunnel  Maintenance Obligation      1\n",
       "..                      ...                     ...    ...\n",
       "193             Bus Shelter                Freehold      5\n",
       "194          Bridge/Pontoon                Freehold     17\n",
       "195   Block/Blocks Of Flats                Freehold      1\n",
       "196  Agricultural Buildings                Freehold      2\n",
       "197     Access/Right Of Way                Freehold     20\n",
       "\n",
       "[198 rows x 3 columns]"
      ]
     },
     "execution_count": 12,
     "metadata": {},
     "output_type": "execute_result"
    }
   ],
   "source": [
    "%%sql\n",
    "SELECT `Property Type`, `Tenure Type`, COUNT(*) AS Count\n",
    "FROM BristolCouncilAssets \n",
    "GROUP BY `Tenure Type`, `Property Type` \n",
    "ORDER BY `Property Type` DESC"
   ]
  }
 ],
 "metadata": {
  "kernelspec": {
   "display_name": "PySpark",
   "language": "python",
   "name": "pysparkkernel"
  },
  "language_info": {
   "codemirror_mode": {
    "name": "python",
    "version": 3
   },
   "file_extension": ".py",
   "mimetype": "text/x-python",
   "name": "pyspark",
   "pygments_lexer": "python3"
  }
 },
 "nbformat": 4,
 "nbformat_minor": 2
}
